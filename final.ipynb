{
 "cells": [
  {
   "cell_type": "code",
   "execution_count": 511,
   "metadata": {},
   "outputs": [],
   "source": [
    "import numpy as np\n",
    "import pandas as pd\n",
    "import networkx as nx\n",
    "from collections import defaultdict \n",
    "import random\n",
    "import time\n",
    "import math"
   ]
  },
  {
   "cell_type": "code",
   "execution_count": 512,
   "metadata": {},
   "outputs": [
    {
     "name": "stderr",
     "output_type": "stream",
     "text": [
      "/usr/local/anaconda3/lib/python3.7/site-packages/ipykernel_launcher.py:2: FutureWarning: read_table is deprecated, use read_csv instead, passing sep='\\t'.\n",
      "  \n"
     ]
    }
   ],
   "source": [
    "# Preprocessing \n",
    "data = pd.read_table(\"BIOGRID-ORGANISM-Zea_mays-3.5.182.tab2.txt\", low_memory = False)\n",
    "# Extract interactions\n",
    "val = data.copy()\n",
    "val.set_index(\"Experimental System Type\", inplace = True)\n",
    "val = val.filter(items = [\"Official Symbol Interactor A\", \"Official Symbol Interactor B\", \"Pubmed ID\"])\n",
    "val = val.filter(like = \"genetic\", axis = 0)\n",
    "# graph = nx.from_pandas_edgelist(val, \"Official Symbol Interactor A\", \"Official Symbol Interactor B\", create_using=nx.DiGraph)"
   ]
  },
  {
   "cell_type": "code",
   "execution_count": 532,
   "metadata": {},
   "outputs": [],
   "source": [
    "# Helper functions\n",
    "def subgraphs_n(graph):\n",
    "    subgraphs = list(nx.weakly_connected_component_subgraphs(graph))\n",
    "    subgraphs_n = defaultdict(list)\n",
    "    for subgraph in subgraphs:\n",
    "        subgraphs_n[nx.number_of_nodes(subgraph)].append(subgraph)\n",
    "    return subgraphs_n\n",
    "\n",
    "def attributes(x):\n",
    "    \"\"\"\n",
    "    Returns [number of source nodes, number of outgoing edges per node...]\n",
    "    which is equivalent to d(x, 0) for connectivity matrix x\n",
    "    \n",
    "    x is a pandas dataframe\n",
    "    \"\"\"\n",
    "    n = len(x)\n",
    "    \n",
    "    # Initialize with counter of source nodes\n",
    "    result = [0]\n",
    "    \n",
    "    # Increment counter for number of source nodes\n",
    "    for j in range(n):\n",
    "        for i in range(n):\n",
    "            if x.iloc[i,j] != 0:\n",
    "                break\n",
    "            elif i == n - 1:\n",
    "                result[0] += 1\n",
    "    result[0] = str(result[0])\n",
    "    # Append sorted list of number of outgoing edges per node\n",
    "    result.extend(sorted([str(int(sum(x.iloc[i]))) for i in range(n)]))\n",
    "    result_string = \"\".join(result)\n",
    "    return result_string\n",
    "\n",
    "def subgraph_hash(subgraphs_n, n, r):\n",
    "    \"\"\"\n",
    "    n is size of subgraph\n",
    "    r is measurement of similarity (in paper)\n",
    "    \"\"\"\n",
    "    start_time = time.time()\n",
    "    random.seed(24)\n",
    "    positions = sorted(random.sample(range(n + 1), n + 1 - r))\n",
    "#     print(positions)\n",
    "    table = defaultdict(list)\n",
    "    for subgraph in subgraphs_n[n]:\n",
    "        characteristics = attributes(nx.to_pandas_adjacency(subgraph))\n",
    "        hash_key = []\n",
    "        for p in positions:\n",
    "            hash_key.append(characteristics[p])\n",
    "        hash_key_string = \"\".join(hash_key)\n",
    "        table[hash_key_string].append(subgraph)\n",
    "    print(str(n) + \": \" + str(time.time() - start_time))\n",
    "def total_hash(graph, n, r):\n",
    "    sgn = subgraphs_n(graph)\n",
    "    print(len(sgn[3]), len(sgn[4]), len(sgn[5]), len(sgn[6]))\n",
    "    subgraph_hash(sgn, n, r)\n",
    "#     print(table)    "
   ]
  },
  {
   "cell_type": "code",
   "execution_count": 533,
   "metadata": {},
   "outputs": [],
   "source": [
    "def subgraphs_n_uniform(graph):\n",
    "    subgraphs = list(nx.weakly_connected_component_subgraphs(graph))\n",
    "    subgraphs_n = defaultdict(list)\n",
    "    for subgraph in subgraphs:\n",
    "        subgraphs_n[nx.number_of_nodes(subgraph)].append(subgraph)\n",
    "    count = min(len(subgraphs_n[3]), len(subgraphs_n[4]), len(subgraphs_n[5]), len(subgraphs_n[6]))\n",
    "    for i in range(3, 7):\n",
    "        subgraphs_n[i] = random.sample(subgraphs_n[i], count)\n",
    "    return subgraphs_n\n",
    "def total_hash_uniform(graph, n, r):\n",
    "    sgn = subgraphs_n_uniform(graph)\n",
    "    print(len(sgn[3]), len(sgn[4]), len(sgn[5]), len(sgn[6]))\n",
    "    subgraph_hash(sgn, n, r)"
   ]
  },
  {
   "cell_type": "code",
   "execution_count": 534,
   "metadata": {},
   "outputs": [
    {
     "name": "stdout",
     "output_type": "stream",
     "text": [
      "395 395 395 395\n",
      "3: 0.5374109745025635\n",
      "395 395 395 395\n",
      "4: 0.6214439868927002\n",
      "395 395 395 395\n",
      "5: 0.6779100894927979\n",
      "395 395 395 395\n",
      "6: 0.8459410667419434\n"
     ]
    }
   ],
   "source": [
    "random.seed(24)\n",
    "# Generate graph\n",
    "graph = nx.fast_gnp_random_graph(100000, 0.000003, seed=24, directed=True)\n",
    "# Size of motif\n",
    "for n in range(3, 7):\n",
    "    total_hash_uniform(graph, n, int(math.ceil(n*1.0/2)))\n"
   ]
  },
  {
   "cell_type": "code",
   "execution_count": 535,
   "metadata": {},
   "outputs": [
    {
     "name": "stdout",
     "output_type": "stream",
     "text": [
      "4514 4514 4514 4514\n",
      "3: 5.435842752456665\n",
      "4514 4514 4514 4514\n",
      "4: 7.315407991409302\n",
      "4514 4514 4514 4514\n",
      "5: 8.144726991653442\n",
      "4514 4514 4514 4514\n",
      "6: 8.901112079620361\n"
     ]
    }
   ],
   "source": [
    "graph = nx.fast_gnp_random_graph(1000000, 0.00000035, seed=24, directed=True)\n",
    "# print(sorted(subgraphs_n(graph).keys()))\n",
    "# sgn = subgraphs_n(graph)\n",
    "# print(len(sgn[3]), len(sgn[4]), len(sgn[5]), len(sgn[6]))\n",
    "for n in range(3, 7):\n",
    "    total_hash_uniform(graph, n, int(math.ceil(n*1.0/2)))"
   ]
  },
  {
   "cell_type": "code",
   "execution_count": 543,
   "metadata": {},
   "outputs": [
    {
     "data": {
      "image/png": "[encoded data removed]",
      "text/plain": [
       "<Figure size 432x288 with 1 Axes>"
      ]
     },
     "metadata": {
      "needs_background": "light"
     },
     "output_type": "display_data"
    },
    {
     "data": {
      "image/png": "[encoded data removed]",
      "text/plain": [
       "<Figure size 432x288 with 1 Axes>"
      ]
     },
     "metadata": {
      "needs_background": "light"
     },
     "output_type": "display_data"
    }
   ],
   "source": [
    "import matplotlib.pyplot as plt\n",
    "def time_curve(times, sizes):            \n",
    "    colors = ['b', 'r', 'g', 'c', 'm', 'y', 'k']\n",
    "    plt.figure()\n",
    "    for i in range(len(sizes)):\n",
    "        plt.plot([3, 4, 5, 6], times[i], colors[i], marker = \"x\")\n",
    "    plt.title(\"Time Curves\")\n",
    "    plt.xlabel(\"Motif Size\")\n",
    "    plt.ylabel(\"Time Taken for Hashing\")\n",
    "    plt.legend(sizes, loc=\"upper left\")\n",
    "    plt.show()\n",
    "time_curve([[0.5374, 0.6214, 0.6779, 0.8459]], [395])\n",
    "time_curve([[0.5374, 0.6214, 0.6779, 0.8459], [5.4358, 7.3154, 8.1447, 8.9011]], [395, 4514])"
   ]
  },
  {
   "cell_type": "code",
   "execution_count": null,
   "metadata": {},
   "outputs": [],
   "source": []
  }
 ],
 "metadata": {
  "kernelspec": {
   "display_name": "Python 3",
   "language": "python",
   "name": "python3"
  },
  "language_info": {
   "codemirror_mode": {
    "name": "ipython",
    "version": 3
   },
   "file_extension": ".py",
   "mimetype": "text/x-python",
   "name": "python",
   "nbconvert_exporter": "python",
   "pygments_lexer": "ipython3",
   "version": "3.7.3"
  }
 },
 "nbformat": 4,
 "nbformat_minor": 2
}
